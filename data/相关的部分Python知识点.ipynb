{
 "cells": [
  {
   "cell_type": "code",
   "execution_count": 3,
   "metadata": {},
   "outputs": [],
   "source": [
    "import numpy\n",
    "import pandas as pd"
   ]
  },
  {
   "cell_type": "code",
   "execution_count": 35,
   "metadata": {},
   "outputs": [
    {
     "name": "stdout",
     "output_type": "stream",
     "text": [
      "<zip object at 0x7fb217004648>\n",
      "[(1, 5), (2, 6), (3, 7), (4, 8)]\n"
     ]
    }
   ],
   "source": [
    "# zip\n",
    "\n",
    "a = [1,2,3,4]\n",
    "b = [5,6,7,8]\n",
    "zipped = zip(a,b)\n",
    "c = list(zipped)  # 转为 list\n",
    "print(zipped)\n",
    "print(c)"
   ]
  },
  {
   "cell_type": "code",
   "execution_count": 36,
   "metadata": {},
   "outputs": [
    {
     "name": "stdout",
     "output_type": "stream",
     "text": [
      "<zip object at 0x7fb21616ca88>\n",
      "[(1, 2, 3, 4), (5, 6, 7, 8)]\n"
     ]
    }
   ],
   "source": [
    "d = zip(*c)\n",
    "print(d)\n",
    "print(list(d))  # 转为 list"
   ]
  },
  {
   "cell_type": "code",
   "execution_count": 56,
   "metadata": {},
   "outputs": [
    {
     "data": {
      "text/plain": [
       "[3, 2]"
      ]
     },
     "execution_count": 56,
     "metadata": {},
     "output_type": "execute_result"
    }
   ],
   "source": [
    "def dicts_sizes(dicts):\n",
    "    return list(map(len, dicts))\n",
    "\n",
    "dicts = [{'a': 0, 'b': 1, 'c': 3}, {'A': 0, 'B': 1}]\n",
    "dicts_sizes(dicts)"
   ]
  },
  {
   "cell_type": "code",
   "execution_count": 57,
   "metadata": {},
   "outputs": [
    {
     "name": "stdout",
     "output_type": "stream",
     "text": [
      "\n",
      "100,200\n",
      "100,200\n"
     ]
    }
   ],
   "source": [
    "x = []\n",
    "x = ','.join(x)\n",
    "print(x)\n",
    "y = [str(100), str(200)]\n",
    "y = ','.join(y)\n",
    "print(y)\n",
    "print(','.join([x, y]).strip(','))"
   ]
  }
 ],
 "metadata": {
  "kernelspec": {
   "display_name": "Python 3",
   "language": "python",
   "name": "python3"
  },
  "language_info": {
   "codemirror_mode": {
    "name": "ipython",
    "version": 3
   },
   "file_extension": ".py",
   "mimetype": "text/x-python",
   "name": "python",
   "nbconvert_exporter": "python",
   "pygments_lexer": "ipython3",
   "version": "3.5.2"
  }
 },
 "nbformat": 4,
 "nbformat_minor": 2
}
